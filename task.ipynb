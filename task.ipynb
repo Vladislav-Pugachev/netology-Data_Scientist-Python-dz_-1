{
 "cells": [
  {
   "cell_type": "markdown",
   "metadata": {},
   "source": [
    "# Задание №1"
   ]
  },
  {
   "cell_type": "code",
   "execution_count": 8,
   "metadata": {},
   "outputs": [
    {
     "name": "stdout",
     "output_type": "stream",
     "text": [
      "Фразы равной длины\n"
     ]
    }
   ],
   "source": [
    "phrase_1 = 'Насколько проще было бы писать программы, если бы не заказчики'\n",
    "phrase_2 = 'Насколько проще было бы писать программы, если бы не заказчики'\n",
    "if len(phrase_1) > len(phrase_2):\n",
    "    print ('Фраза 1 длиннее фразы 2')\n",
    "elif len(phrase_1)< len(phrase_2):\n",
    "    print ('Фраза 2 длиннее фразы 1')\n",
    "else:\n",
    "    print ('Фразы равной длины')"
   ]
  },
  {
   "cell_type": "markdown",
   "metadata": {},
   "source": [
    "# Задание №2"
   ]
  },
  {
   "cell_type": "code",
   "execution_count": 15,
   "metadata": {},
   "outputs": [
    {
     "name": "stdout",
     "output_type": "stream",
     "text": [
      "Високосный год\n"
     ]
    }
   ],
   "source": [
    "year=2008\n",
    "if year%4==0:\n",
    "    print ('Високосный год')\n",
    "else:\n",
    "    print ('Обычный год')"
   ]
  },
  {
   "cell_type": "markdown",
   "metadata": {},
   "source": [
    "# Задание №3"
   ]
  },
  {
   "cell_type": "code",
   "execution_count": 11,
   "metadata": {},
   "outputs": [
    {
     "name": "stdout",
     "output_type": "stream",
     "text": [
      "23\n",
      "Май\n",
      "Ваш знак зодиака: Блинецы\n"
     ]
    }
   ],
   "source": [
    "day=int(input())\n",
    "month=input()\n",
    "if (month=='Декабрь' and  22<=day<=31) or (month=='Январь' and 0<day<=19):\n",
    "    print('Ваш знак зодиака: Козерог')\n",
    "elif (month=='Январь' and  20<day<=31) or (month=='Февраль' and 0<day<=19):\n",
    "    print('Ваш знак зодиака: Водолей')\n",
    "elif (month=='Февраль' and  20<=day<=29) or (month=='Март' and 0<day<=20):\n",
    "    print('Ваш знак зодиака: Рыбы')\n",
    "elif (month=='Март' and  20<day<=31) or (month=='Апрель' and 0<day<=20):\n",
    "    print('Ваш знак зодиака: Овен')\n",
    "elif (month=='Апрель' and  20<day<=31) or (month=='Май' and 0<day<=20):\n",
    "    print('Ваш знак зодиака: Телец')\n",
    "elif (month=='Май' and  20<day<=31) or (month=='Июнь' and 0<day<=20):\n",
    "    print('Ваш знак зодиака: Близнецы')\n",
    "elif (month=='Июнь' and  20<day<=31) or (month=='Июль' and 0<day<=22):\n",
    "    print('Ваш знак зодиака: Рак')\n",
    "elif (month=='Июль' and  22<day<=31) or (month=='Август' and 0<day<=22):\n",
    "    print('Ваш знак зодиака: Лев')\n",
    "elif (month=='Август' and  22<day<=31) or (month=='Сентябрь' and 0<day<=22):\n",
    "    print('Ваш знак зодиака: Дева')\n",
    "elif (month=='Сентябрь' and  22<day<=31) or (month=='Октябрь' and 0<day<=22):\n",
    "    print('Ваш знак зодиака: Весы')\n",
    "elif (month=='Октябрь' and  22<day<=31) or (month=='Ноябрь' and 0<day<=22):\n",
    "    print('Ваш знак зодиака: Скорпион')\n",
    "elif (month=='Ноябрь' and  22<day<=31) or (month=='Декабрь' and 0<day<=21):\n",
    "    print('Ваш знак зодиака: Стрелец')\n",
    "else:\n",
    "    print('Введена некорректная дата')"
   ]
  },
  {
   "cell_type": "markdown",
   "metadata": {},
   "source": [
    "#  Задание №4"
   ]
  },
  {
   "cell_type": "code",
   "execution_count": 10,
   "metadata": {},
   "outputs": [
    {
     "name": "stdout",
     "output_type": "stream",
     "text": [
      "Коробка №2\n"
     ]
    }
   ],
   "source": [
    "width = 49\n",
    "length = 66\n",
    "height = 49\n",
    "if width<=15 and length<=15 and height<=15:\n",
    "    print ('Коробка №1')\n",
    "elif 15<width<=50 or 15<length<=50 or 15<height<=50:\n",
    "    if 200<=length:\n",
    "        print ('Упаковка для лыж')\n",
    "    else:\n",
    "        print ('Коробка №2')\n",
    "elif 50<width or 50<height or 50<length<200:\n",
    "    print('Стандартная коробка №3')"
   ]
  }
 ],
 "metadata": {
  "kernelspec": {
   "display_name": "Python 3",
   "language": "python",
   "name": "python3"
  },
  "language_info": {
   "codemirror_mode": {
    "name": "ipython",
    "version": 3
   },
   "file_extension": ".py",
   "mimetype": "text/x-python",
   "name": "python",
   "nbconvert_exporter": "python",
   "pygments_lexer": "ipython3",
   "version": "3.8.5"
  }
 },
 "nbformat": 4,
 "nbformat_minor": 4
}
