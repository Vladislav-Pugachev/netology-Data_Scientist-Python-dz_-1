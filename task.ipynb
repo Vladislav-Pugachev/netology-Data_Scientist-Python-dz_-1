{
 "cells": [
  {
   "cell_type": "markdown",
   "metadata": {},
   "source": [
    "# Задание №1"
   ]
  },
  {
   "cell_type": "code",
   "execution_count": 8,
   "metadata": {},
   "outputs": [
    {
     "name": "stdout",
     "output_type": "stream",
     "text": [
      "Фразы равной длины\n"
     ]
    }
   ],
   "source": [
    "phrase_1 = 'Насколько проще было бы писать программы, если бы не заказчики'\n",
    "phrase_2 = 'Насколько проще было бы писать программы, если бы не заказчики'\n",
    "if len(phrase_1) > len(phrase_2):\n",
    "    print ('Фраза 1 длиннее фразы 2')\n",
    "elif len(phrase_1)< len(phrase_2):\n",
    "    print ('Фраза 2 длиннее фразы 1')\n",
    "else:\n",
    "    print ('Фразы равной длины')"
   ]
  },
  {
   "cell_type": "markdown",
   "metadata": {},
   "source": [
    "# Задание №2"
   ]
  },
  {
   "cell_type": "code",
   "execution_count": 15,
   "metadata": {},
   "outputs": [
    {
     "name": "stdout",
     "output_type": "stream",
     "text": [
      "Високосный год\n"
     ]
    }
   ],
   "source": [
    "year=2008\n",
    "if year%4==0:\n",
    "    print ('Високосный год')\n",
    "else:\n",
    "    print ('Обычный год')"
   ]
  },
  {
   "cell_type": "markdown",
   "metadata": {},
   "source": [
    "# Задание №3"
   ]
  },
  {
   "cell_type": "code",
   "execution_count": 11,
   "metadata": {},
   "outputs": [
    {
     "name": "stdout",
     "output_type": "stream",
     "text": [
      "23\n",
      "Май\n",
      "Ваш знак зодиака: Блинецы\n"
     ]
    }
   ],
   "source": [
    "day=int(input())\n",
    "month=input()\n",
    "if (month=='Декабрь' and  22<=day<=31) or (month=='Январь' and 0<day<=19):\n",
    "    print('Ваш знак зодиака: Козерог')\n",
    "elif (month=='Январь' and  20<day<=31) or (month=='Февраль' and 0<day<=19):\n",
    "    print('Ваш знак зодиака: Водолей')\n",
    "elif (month=='Февраль' and  20<=day<=29) or (month=='Март' and 0<day<=20):\n",
    "    print('Ваш знак зодиака: Рыбы')\n",
    "elif (month=='Март' and  20<day<=31) or (month=='Апрель' and 0<day<=20):\n",
    "    print('Ваш знак зодиака: Овен')\n",
    "elif (month=='Апрель' and  20<day<=31) or (month=='Май' and 0<day<=20):\n",
    "    print('Ваш знак зодиака: Телец')\n",
    "elif (month=='Май' and  20<day<=31) or (month=='Июнь' and 0<day<=20):\n",
    "    print('Ваш знак зодиака: Близнецы')\n",
    "elif (month=='Июнь' and  20<day<=31) or (month=='Июль' and 0<day<=22):\n",
    "    print('Ваш знак зодиака: Рак')\n",
    "elif (month=='Июль' and  22<day<=31) or (month=='Август' and 0<day<=22):\n",
    "    print('Ваш знак зодиака: Лев')\n",
    "elif (month=='Август' and  22<day<=31) or (month=='Сентябрь' and 0<day<=22):\n",
    "    print('Ваш знак зодиака: Дева')\n",
    "elif (month=='Сентябрь' and  22<day<=31) or (month=='Октябрь' and 0<day<=22):\n",
    "    print('Ваш знак зодиака: Весы')\n",
    "elif (month=='Октябрь' and  22<day<=31) or (month=='Ноябрь' and 0<day<=22):\n",
    "    print('Ваш знак зодиака: Скорпион')\n",
    "elif (month=='Ноябрь' and  22<day<=31) or (month=='Декабрь' and 0<day<=21):\n",
    "    print('Ваш знак зодиака: Стрелец')\n",
    "else:\n",
    "    print('Введена некорректная дата')"
   ]
  },
  {
   "cell_type": "markdown",
   "metadata": {},
   "source": [
    "#  Задание №4"
   ]
  },
  {
   "cell_type": "code",
   "execution_count": 13,
   "metadata": {},
   "outputs": [
    {
     "name": "stdout",
     "output_type": "stream",
     "text": [
      "\n",
      "Упаковка для лыж\n"
     ]
    }
   ],
   "source": [
    "width = 4\n",
    "length = 320\n",
    "height = 13\n",
    "summ = width+length+height\n",
    "print()\n",
    "if width<=50 and length<=50 and height<=50:\n",
    "    if width<=15 and length<=15 and height<=15:\n",
    "        print ('Коробка №1')\n",
    "    else:\n",
    "        print ('Коробка №2')\n",
    "elif 200<=length:\n",
    "    print ('Упаковка для лыж')\n",
    "else:\n",
    "    print('Стандартная коробка №3')"
   ]
  },
  {
   "cell_type": "markdown",
   "metadata": {},
   "source": [
    "# Задание №5"
   ]
  },
  {
   "cell_type": "code",
   "execution_count": 38,
   "metadata": {},
   "outputs": [
    {
     "name": "stdout",
     "output_type": "stream",
     "text": [
      "Несчастливый билет\n"
     ]
    }
   ],
   "source": [
    "number = 12373218\n",
    "bilet = str(number)\n",
    "if len(bilet)%2!=0:\n",
    "    print('Некорректный номер билета')\n",
    "else:\n",
    "    b = int(len(bilet)/2)\n",
    "    if sum(map(int,str(bilet[b:])))==sum(map(int,str(bilet[:b]))):\n",
    "        print('Счастливый билет')\n",
    "    else:\n",
    "        print('Несчастливый билет') \n",
    "\n"
   ]
  },
  {
   "cell_type": "markdown",
   "metadata": {},
   "source": [
    "# Задание №6"
   ]
  },
  {
   "cell_type": "code",
   "execution_count": 62,
   "metadata": {},
   "outputs": [
    {
     "name": "stdout",
     "output_type": "stream",
     "text": [
      "Введите тип фигуры:Прямоугольник\n",
      "Введите длину стороны A:2\n",
      "Введите длину стороны B:3\n",
      "Площадь прямоугольника: 6\n"
     ]
    }
   ],
   "source": [
    "import math\n",
    "a=input('Введите тип фигуры:')\n",
    "if a=='Круг':\n",
    "    R=int(input('Введите радиус круга:'))\n",
    "    print('Площадь круга:', round(math.pi*(R**2), 2))\n",
    "elif a=='Треугольник':\n",
    "    A=int(input('Введите длину стороны A:'))\n",
    "    B=int(input('Введите длину стороны B:'))\n",
    "    C=int(input('Введите длину стороны C:'))\n",
    "    P=(A+B+C)/2\n",
    "    print('Площадь треугольника:', round(math.sqrt(P*(P-A)*(P-B)*(P-C)), 2))\n",
    "elif a=='Прямоугольник':\n",
    "    A=int(input('Введите длину стороны A:'))\n",
    "    B=int(input('Введите длину стороны B:'))\n",
    "    print('Площадь прямоугольника:', round(A*B, 2))\n",
    "else:\n",
    "    print('Введена некорретная фигура')"
   ]
  }
 ],
 "metadata": {
  "kernelspec": {
   "display_name": "Python 3",
   "language": "python",
   "name": "python3"
  },
  "language_info": {
   "codemirror_mode": {
    "name": "ipython",
    "version": 3
   },
   "file_extension": ".py",
   "mimetype": "text/x-python",
   "name": "python",
   "nbconvert_exporter": "python",
   "pygments_lexer": "ipython3",
   "version": "3.8.5"
  }
 },
 "nbformat": 4,
 "nbformat_minor": 4
}
